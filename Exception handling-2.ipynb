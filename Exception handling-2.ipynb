{
 "cells": [
  {
   "cell_type": "markdown",
   "id": "672f4319-51f9-4a8e-9e43-22d270685d3c",
   "metadata": {},
   "source": [
    "## Answer No.1\n",
    "\n",
    "\n",
    "When creating custom exceptions in a programming language like Java, it's essential to utilize the Exception class as the base class for your custom exception. This is because Exception is the root class for all exceptions in Java, forming the foundation of the exception hierarchy."
   ]
  },
  {
   "cell_type": "code",
   "execution_count": null,
   "id": "51035fe3-06ee-40a0-8ab8-ef0c608edeb4",
   "metadata": {},
   "outputs": [],
   "source": [
    "## Answer NO.2\n",
    "\n",
    "def print_exception_hierarchy(exception_class, indent=0):\n",
    "    print(' ' * indent + exception_class.__name__)\n",
    "    for subclass in exception_class.__subclasses__():\n",
    "        print_exception_hierarchy(subclass, indent + 4)\n",
    "\n",
    "print(\"Python Exception Hierarchy:\")\n",
    "print_exception_hierarchy(BaseException)\n"
   ]
  },
  {
   "cell_type": "markdown",
   "id": "e70b53d3-9c0e-4b50-8591-f12ba385468e",
   "metadata": {},
   "source": [
    "## Answer No.3\n",
    "\n",
    "\n",
    "The ArithmeticError class in Python represents errors that occur during arithmetic operations. It is a base class for various arithmetic-related exceptions. Two common errors defined in the ArithmeticError class are:\n",
    "\n",
    "ZeroDivisionError: This error occurs when attempting to divide a number by zero.\n",
    "OverflowError: This error occurs when the result of an arithmetic operation exceeds the maximum representable value for the data type."
   ]
  },
  {
   "cell_type": "code",
   "execution_count": null,
   "id": "4e3e9bf9-e48e-48af-8e89-e60d45eac95b",
   "metadata": {},
   "outputs": [],
   "source": [
    "# Example 1\n",
    "\n",
    "try:\n",
    "    result = 10 / 0\n",
    "except ZeroDivisionError as e:\n",
    "    print(\"Error:\", e)\n",
    "\n",
    "    \n",
    "# Output\n",
    "\n",
    "Error: division by zero\n",
    "\n",
    "\n",
    "# Example 2\n",
    "\n",
    "import sys\n",
    "\n",
    "try:\n",
    "    result = sys.maxsize + 1\n",
    "    print(\"Result:\", result)\n",
    "except OverflowError as e:\n",
    "    print(\"Error:\", e)\n",
    "\n",
    "# Output\n",
    "\n",
    "Error: int too large to convert to float\n"
   ]
  },
  {
   "cell_type": "markdown",
   "id": "5eb4d570-3bef-414f-96f0-862095bc02b3",
   "metadata": {},
   "source": [
    "## Answer No.4\n",
    "\n",
    "The LookupError class in Python serves as the base class for exceptions that occur when a key or index is not found during a lookup operation. It is a subclass of the Exception class. By catching LookupError, you can handle errors related to failed lookups in a generalized way."
   ]
  },
  {
   "cell_type": "code",
   "execution_count": null,
   "id": "b6932e1c-8beb-45cf-a470-894b06c50083",
   "metadata": {},
   "outputs": [],
   "source": [
    "# Example of KeyError:\n",
    "\n",
    "my_dict = {'a': 1, 'b': 2, 'c': 3}\n",
    "try:\n",
    "    value = my_dict['d']\n",
    "    print(\"Value:\", value)\n",
    "except KeyError as e:\n",
    "    print(\"Error:\", e)\n",
    "\n",
    "\n",
    "# Output:\n",
    "Error: 'd'\n",
    "\n",
    "# Example of IndexError:\n",
    "\n",
    "my_list = [1, 2, 3]\n",
    "try:\n",
    "    value = my_list[3]\n",
    "    print(\"Value:\", value)\n",
    "except IndexError as e:\n",
    "    print(\"Error:\", e)\n",
    "\n",
    "    \n",
    "# Output: \n",
    "Error: list index out of range"
   ]
  },
  {
   "cell_type": "markdown",
   "id": "986f41bc-2e0a-4915-9ba4-2050fa15b04f",
   "metadata": {},
   "source": [
    "## Answer No.5\n",
    "\n",
    "ImportError and ModuleNotFoundError are both exceptions in Python that occur when there are issues with importing modules or packages. However, they have slight differences in their behavior and when they are raised.\n",
    "\n",
    "## ImportError:\n",
    "ImportError is a generic exception that occurs when an import statement fails for any reason other than the module not being found. It can occur due to various reasons such as syntax errors in the module being imported, missing dependencies, or issues with the module's code.\n",
    "\n",
    "## ModuleNotFoundError:\n",
    "ModuleNotFoundError is a specific subclass of ImportError that is raised when Python cannot find the module specified in the import statement. It was introduced in Python 3.6 to provide more precise error messages when a module is not found."
   ]
  },
  {
   "cell_type": "markdown",
   "id": "6afdd054-23b4-4c5a-8049-44aaa46d029c",
   "metadata": {},
   "source": [
    "## Answer No.6\n",
    "\n",
    "Exception handling is a critical aspect of writing robust and reliable Python code. Here are some best practices for exception handling in Python:\n",
    "\n",
    "## Specificity: \n",
    "Catch exceptions at the appropriate level of granularity. Catch specific exceptions rather than using broad exception handlers like except Exception:. This helps in understanding and debugging the code more effectively.\n",
    "\n",
    "## Use Try-Except Blocks: \n",
    "Wrap the code that might raise an exception within a try-except block. This allows you to handle exceptions gracefully without crashing the program.\n",
    "\n",
    "## Keep Exception Handling Minimal: \n",
    "Place only the necessary code within the try block. Avoid wrapping large blocks of code in try blocks as it might hide errors and make debugging more difficult.\n",
    "\n",
    "## Avoid Bare Excepts: \n",
    "Avoid using bare except: blocks without specifying the exception type. This can catch unintended exceptions and make debugging harder.\n",
    "\n",
    "## Handle Specific Exceptions: \n",
    "Handle specific exceptions whenever possible. This helps in providing precise error messages and enables different handling logic for different types of errors."
   ]
  }
 ],
 "metadata": {
  "kernelspec": {
   "display_name": "Python 3 (ipykernel)",
   "language": "python",
   "name": "python3"
  },
  "language_info": {
   "codemirror_mode": {
    "name": "ipython",
    "version": 3
   },
   "file_extension": ".py",
   "mimetype": "text/x-python",
   "name": "python",
   "nbconvert_exporter": "python",
   "pygments_lexer": "ipython3",
   "version": "3.10.8"
  }
 },
 "nbformat": 4,
 "nbformat_minor": 5
}
